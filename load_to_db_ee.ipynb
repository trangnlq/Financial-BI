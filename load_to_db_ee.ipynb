{
 "cells": [
  {
   "cell_type": "markdown",
   "metadata": {},
   "source": [
    "***Import and setup***"
   ]
  },
  {
   "cell_type": "code",
   "execution_count": null,
   "metadata": {},
   "outputs": [],
   "source": [
    "#!pip install -U vnstock3"
   ]
  },
  {
   "cell_type": "code",
   "execution_count": 4,
   "metadata": {},
   "outputs": [],
   "source": [
    "from vnstock3 import Vnstock\n",
    "import pandas as pd\n",
    "from datetime import datetime\n",
    "import schedule"
   ]
  },
  {
   "cell_type": "markdown",
   "metadata": {},
   "source": [
    "***Connect to SQL Server***"
   ]
  },
  {
   "cell_type": "code",
   "execution_count": null,
   "metadata": {},
   "outputs": [],
   "source": [
    "import pyodbc"
   ]
  },
  {
   "cell_type": "code",
   "execution_count": null,
   "metadata": {},
   "outputs": [],
   "source": [
    "pyodbc.drivers()"
   ]
  },
  {
   "cell_type": "code",
   "execution_count": null,
   "metadata": {},
   "outputs": [],
   "source": [
    "conn = pyodbc.connect(\n",
    "    \"Driver={ODBC Driver 17 for SQL Server};\"\n",
    "    \"Server=TRANGNLQ;\"\n",
    "    \"Database=datn;\"\n",
    "    \"Trusted_Connection=yes;\"\n",
    ")\n",
    "\n",
    "cursor = conn.cursor()"
   ]
  },
  {
   "cell_type": "markdown",
   "metadata": {},
   "source": [
    "***Data***"
   ]
  },
  {
   "cell_type": "code",
   "execution_count": null,
   "metadata": {},
   "outputs": [],
   "source": [
    "tickers = ['HLO','AME','CJC','TSB','DHP','KIP','HLS','NAG','EMG','VTH',\n",
    "        'BTH','TBD','NEM','GEE','TGP','TIE','EME','GEX','PAC','PHN',\n",
    "        'VTB','TYA','VBH']"
   ]
  },
  {
   "cell_type": "code",
   "execution_count": 3,
   "metadata": {},
   "outputs": [
    {
     "name": "stderr",
     "output_type": "stream",
     "text": [
      "2024-08-29 09:00:11,067 - vnstock3.common.vnstock - INFO - Mã chứng khoán không được chỉ định, chương trình mặc định sử dụng VN30F1M\n",
      "2024-08-29 09:00:11,119 - vnstock3.common.data.data_explorer - WARNING - Thông tin niêm yết & giao dịch sẽ được truy xuất từ TCBS\n"
     ]
    },
    {
     "data": {
      "text/html": [
       "<div>\n",
       "<style scoped>\n",
       "    .dataframe tbody tr th:only-of-type {\n",
       "        vertical-align: middle;\n",
       "    }\n",
       "\n",
       "    .dataframe tbody tr th {\n",
       "        vertical-align: top;\n",
       "    }\n",
       "\n",
       "    .dataframe thead th {\n",
       "        text-align: right;\n",
       "    }\n",
       "</style>\n",
       "<table border=\"1\" class=\"dataframe\">\n",
       "  <thead>\n",
       "    <tr style=\"text-align: right;\">\n",
       "      <th></th>\n",
       "      <th>icb_name</th>\n",
       "      <th>en_icb_name</th>\n",
       "      <th>icb_code</th>\n",
       "      <th>level</th>\n",
       "    </tr>\n",
       "  </thead>\n",
       "  <tbody>\n",
       "    <tr>\n",
       "      <th>8</th>\n",
       "      <td>Điện tử &amp; Thiết bị điện</td>\n",
       "      <td>Electronic &amp; Electrical Equipment</td>\n",
       "      <td>2730</td>\n",
       "      <td>3</td>\n",
       "    </tr>\n",
       "  </tbody>\n",
       "</table>\n",
       "</div>"
      ],
      "text/plain": [
       "                  icb_name                        en_icb_name icb_code  level\n",
       "8  Điện tử & Thiết bị điện  Electronic & Electrical Equipment     2730      3"
      ]
     },
     "execution_count": 3,
     "metadata": {},
     "output_type": "execute_result"
    }
   ],
   "source": [
    "stock = Vnstock().stock()\n",
    "df = stock.listing.industries_icb()\n",
    "code = ['2730']\n",
    "df = df.loc[df['icb_code'].isin(code)]\n",
    "df"
   ]
  },
  {
   "cell_type": "markdown",
   "metadata": {},
   "source": [
    "**company**"
   ]
  },
  {
   "cell_type": "code",
   "execution_count": null,
   "metadata": {},
   "outputs": [],
   "source": [
    "overview = Vnstock().stock(symbol='BTH',source='TCBS').company.overview()\n",
    "overview['ticker'] = 'BTH'\n",
    "overview"
   ]
  },
  {
   "cell_type": "code",
   "execution_count": null,
   "metadata": {},
   "outputs": [],
   "source": [
    "def companyOverview(tickers):\n",
    "    for ticker in tickers:\n",
    "        conn=pyodbc.connect(\n",
    "            \"Driver={ODBC Driver 17 for SQL Server};\"\n",
    "            \"Server=TRANGNLQ;\"\n",
    "            \"Database=datn;\"\n",
    "            \"Trusted_Connection=yes;\"\n",
    "        )\n",
    "        try:\n",
    "            new_record=Vnstock().stock(symbol=ticker,source='TCBS').company.overview()\n",
    "            new_record['ticker']=ticker\n",
    "            print('in_connect'+ticker)\n",
    "            try:\n",
    "                table='ee_company'\n",
    "                cursor=conn.cursor()\n",
    "                for i, row in new_record.iterrows():\n",
    "                    sql=\"INSERT INTO \"+table+\" VALUES (?,?,?,?,?,?,?,?,?,?,\\\n",
    "                        ?,?,?,?,?,?,?,?)\"\n",
    "                cursor.execute(sql,tuple(row))\n",
    "                print(\"Record inserted\")\n",
    "                conn.commit()\n",
    "            except Error as e:\n",
    "                print(f'Errorwhileinserting{ticker}todatabase',e)\n",
    "        except:\n",
    "            print(f'Errorwhileextractingdata{ticker}')\n",
    "    conn.close()\n",
    "companyOverview(tickers)"
   ]
  },
  {
   "cell_type": "markdown",
   "metadata": {},
   "source": [
    "**balance**"
   ]
  },
  {
   "cell_type": "code",
   "execution_count": null,
   "metadata": {},
   "outputs": [],
   "source": [
    "stock=Vnstock().stock(symbol='VBH', source='TCBS')\n",
    "new_record=stock.finance.balance_sheet(period='quarter')\n",
    "new_record['ticker']='AME'\n",
    "new_record.reset_index(drop='True')"
   ]
  },
  {
   "cell_type": "code",
   "execution_count": null,
   "metadata": {},
   "outputs": [],
   "source": [
    "new_record.columns.values.tolist()"
   ]
  },
  {
   "cell_type": "code",
   "execution_count": null,
   "metadata": {},
   "outputs": [],
   "source": [
    "def balanceSheet(tickers):\n",
    "    for ticker in tickers:\n",
    "        conn=pyodbc.connect(\n",
    "            \"Driver={ODBC Driver 17 for SQL Server};\"\n",
    "            \"Server=TRANGNLQ;\"\n",
    "            \"Database=datn;\"\n",
    "            \"Trusted_Connection=yes;\"\n",
    "        )\n",
    "        try:\n",
    "            stock=Vnstock().stock(symbol=ticker, source='TCBS')\n",
    "            new_record=stock.finance.balance_sheet(period='quarter')\n",
    "            new_record['ticker']=ticker\n",
    "            new_record=new_record.fillna(0)\n",
    "            new_record.reset_index(drop='True')\n",
    "            print('in_connect'+ticker)\n",
    "            try:\n",
    "                table='ee_balance'\n",
    "                cursor=conn.cursor()\n",
    "                for i, row in new_record.iterrows():\n",
    "                    sql=\"INSERT INTO \"+table+\" VALUES(?,?,?,?,?,?,?,?,?,?,\\\n",
    "                        ?,?,?,?,?,?,?,?,?,?)\"\n",
    "                    cursor.execute(sql,tuple(row))\n",
    "                    print(\"Recordinserted\")\n",
    "                    conn.commit()\n",
    "            except Error as e:\n",
    "                print(f'Errorwhileinserting{ticker}todatabase',e)\n",
    "        except:\n",
    "            print(f'Errorwhileextractingdata{ticker}')\n",
    "    conn.close()\n",
    "balanceSheet(tickers)"
   ]
  },
  {
   "cell_type": "code",
   "execution_count": null,
   "metadata": {},
   "outputs": [],
   "source": [
    "pd.set_option('display.max_columns', None)"
   ]
  },
  {
   "cell_type": "code",
   "execution_count": null,
   "metadata": {},
   "outputs": [],
   "source": [
    "new_record.info()"
   ]
  },
  {
   "cell_type": "code",
   "execution_count": null,
   "metadata": {},
   "outputs": [],
   "source": [
    "new_record.columns.values.tolist()"
   ]
  },
  {
   "cell_type": "markdown",
   "metadata": {},
   "source": [
    "**cashflow**"
   ]
  },
  {
   "cell_type": "code",
   "execution_count": null,
   "metadata": {},
   "outputs": [],
   "source": [
    "stock=Vnstock().stock(symbol='AME', source='TCBS')\n",
    "new_record=stock.finance.cash_flow(period='quarter')\n",
    "new_record['ticker']='AME'\n",
    "new_record.reset_index(drop='True')"
   ]
  },
  {
   "cell_type": "code",
   "execution_count": null,
   "metadata": {},
   "outputs": [],
   "source": [
    "new_record.columns.values.tolist()"
   ]
  },
  {
   "cell_type": "code",
   "execution_count": null,
   "metadata": {},
   "outputs": [],
   "source": [
    "def cashFlow(tickers):\n",
    "    for ticker in tickers:\n",
    "        conn=pyodbc.connect(\n",
    "            \"Driver={ODBC Driver 17 for SQL Server};\"\n",
    "            \"Server=TRANGNLQ;\"\n",
    "            \"Database=datn;\"\n",
    "            \"Trusted_Connection=yes;\"\n",
    "        )\n",
    "        try:\n",
    "            stock=Vnstock().stock(symbol=ticker, source='TCBS')\n",
    "            new_record=stock.finance.cash_flow(period='quarter')\n",
    "            new_record['ticker']=ticker\n",
    "            new_record=new_record.fillna(0)\n",
    "            new_record.reset_index(drop='True')\n",
    "            print('in_connect'+ticker)\n",
    "            try:\n",
    "                table='ee_cashflow'\n",
    "                cursor=conn.cursor()\n",
    "                for i, row in new_record.iterrows():\n",
    "                    sql=\"INSERT INTO \"+table+\" VALUES(?,?,?,?,?,?,?,?)\"\n",
    "                    cursor.execute(sql,tuple(row))\n",
    "                    print(\"Recordinserted\")\n",
    "                    conn.commit()\n",
    "            except Error as e:\n",
    "                print(f'Errorwhileinserting{ticker}todatabase',e)\n",
    "        except:\n",
    "            print(f'Errorwhileextractingdata{ticker}')\n",
    "    conn.close()\n",
    "cashFlow(tickers)"
   ]
  },
  {
   "cell_type": "markdown",
   "metadata": {},
   "source": [
    "**income**"
   ]
  },
  {
   "cell_type": "code",
   "execution_count": null,
   "metadata": {},
   "outputs": [],
   "source": [
    "stock=Vnstock().stock(symbol='AME', source='TCBS')\n",
    "new_record=stock.finance.income_statement(period='quarter')\n",
    "# new_record['ticker']='AME'\n",
    "# new_record.reset_index(drop='True')\n",
    "# new_record.info()"
   ]
  },
  {
   "cell_type": "code",
   "execution_count": null,
   "metadata": {},
   "outputs": [],
   "source": [
    "new_record.columns.values.tolist()"
   ]
  },
  {
   "cell_type": "code",
   "execution_count": null,
   "metadata": {},
   "outputs": [],
   "source": [
    "def incomeStatement(tickers):\n",
    "    for ticker in tickers:\n",
    "        conn=pyodbc.connect(\n",
    "            \"Driver={ODBC Driver 17 for SQL Server};\"\n",
    "            \"Server=TRANGNLQ;\"\n",
    "            \"Database=datn;\"\n",
    "            \"Trusted_Connection=yes;\"\n",
    "        )\n",
    "        try:\n",
    "            stock=Vnstock().stock(symbol=ticker, source='TCBS')\n",
    "            new_record=stock.finance.income_statement(period='quarter')\n",
    "            new_record['ticker']=ticker\n",
    "            new_record=new_record.fillna(0)\n",
    "            new_record.reset_index(drop='True')\n",
    "            print('in_connect'+ticker)\n",
    "            try:\n",
    "                table='ee_income'\n",
    "                cursor=conn.cursor()\n",
    "                for i, row in new_record.iterrows():\n",
    "                    sql=\"INSERT INTO \"+table+\" VALUES(?,?,?,?,?,?,?,?,?,?,\\\n",
    "                        ?,?,?,?,?,?,?,?,?)\"\n",
    "                    cursor.execute(sql,tuple(row))\n",
    "                    print(\"Recordinserted\")\n",
    "                    conn.commit()\n",
    "            except Error as e:\n",
    "                print(f'Errorwhileinserting{ticker}todatabase',e)\n",
    "        except:\n",
    "            print(f'Errorwhileextractingdata{ticker}')\n",
    "    conn.close()\n",
    "incomeStatement(tickers)"
   ]
  },
  {
   "cell_type": "markdown",
   "metadata": {},
   "source": [
    "**ratio**"
   ]
  },
  {
   "cell_type": "code",
   "execution_count": null,
   "metadata": {},
   "outputs": [],
   "source": [
    "stock=Vnstock().stock(symbol='AME', source='VCI')\n",
    "new_record=stock.finance.ratio(period='quarter', lang='vi')\n",
    "# new_record.info()\n",
    "new_record.head(10)"
   ]
  },
  {
   "cell_type": "code",
   "execution_count": null,
   "metadata": {},
   "outputs": [],
   "source": [
    "new_record.columns.values.tolist()"
   ]
  },
  {
   "cell_type": "code",
   "execution_count": null,
   "metadata": {},
   "outputs": [],
   "source": [
    "def ratio(tickers):\n",
    "    for ticker in tickers:\n",
    "        conn=pyodbc.connect(\n",
    "            \"Driver={ODBC Driver 17 for SQL Server};\"\n",
    "            \"Server=TRANGNLQ;\"\n",
    "            \"Database=datn;\"\n",
    "            \"Trusted_Connection=yes;\"\n",
    "        )\n",
    "        try:\n",
    "            stock=Vnstock().stock(symbol=ticker, source='VCI')\n",
    "            new_record=stock.finance.ratio(period='quarter')\n",
    "            print('in_connect'+ticker)\n",
    "            try:\n",
    "                table='ee_ratio'\n",
    "                cursor=conn.cursor()\n",
    "                for i, row in new_record.iterrows():\n",
    "                    sql=\"INSERT INTO \"+table+\" VALUES(?,?,?,?,?,?,?,?,?,?,\\\n",
    "                        ?,?,?,?,?,?,?,?,?,?,\\\n",
    "                        ?,?,?,?,?,?,?,?,?,?,\\\n",
    "                        ?,?,?,?,?,?,?)\"\n",
    "                    cursor.execute(sql,tuple(row))\n",
    "                    print(\"Recordinserted\")\n",
    "                    conn.commit()\n",
    "            except Error as e:\n",
    "                print(f'Errorwhileinserting{ticker}todatabase',e)\n",
    "        except:\n",
    "            print(f'Errorwhileextractingdata{ticker}')\n",
    "    conn.close()\n",
    "ratio(tickers)"
   ]
  },
  {
   "cell_type": "markdown",
   "metadata": {},
   "source": [
    "**price**"
   ]
  },
  {
   "cell_type": "code",
   "execution_count": null,
   "metadata": {},
   "outputs": [],
   "source": [
    "stock=Vnstock().stock(symbol='AME', source='TCBS')"
   ]
  },
  {
   "cell_type": "code",
   "execution_count": null,
   "metadata": {},
   "outputs": [],
   "source": [
    "today = str(datetime.now())[:10]\n",
    "today"
   ]
  },
  {
   "cell_type": "code",
   "execution_count": null,
   "metadata": {},
   "outputs": [],
   "source": [
    "stock=Vnstock().stock(symbol='AME',source='VCI')\n",
    "new_record=stock.quote.history(start='2023-01-01', end=str(datetime.now())[:10], interval='1D')\n",
    "new_record['ticker']='AME'\n",
    "new_record"
   ]
  },
  {
   "cell_type": "code",
   "execution_count": null,
   "metadata": {},
   "outputs": [],
   "source": [
    "price.columns.values.tolist()"
   ]
  },
  {
   "cell_type": "code",
   "execution_count": null,
   "metadata": {},
   "outputs": [],
   "source": [
    "def price(tickers):\n",
    "    for ticker in tickers:\n",
    "        conn=pyodbc.connect(\n",
    "            \"Driver={ODBC Driver 17 for SQL Server};\"\n",
    "            \"Server=TRANGNLQ;\"\n",
    "            \"Database=datn;\"\n",
    "            \"Trusted_Connection=yes;\"\n",
    "        )\n",
    "        try:\n",
    "            stock=Vnstock().stock(symbol=ticker,source='VCI')\n",
    "            new_record=stock.quote.history(start='2023-01-01', end=str(datetime.now())[:10], interval='1D')\n",
    "            new_record['ticker']=ticker\n",
    "            print('in_connect'+ticker)\n",
    "            try:\n",
    "                table='ee_price'\n",
    "                cursor=conn.cursor()\n",
    "                for i, row in new_record.iterrows():\n",
    "                    sql=\"INSERT INTO \"+table+\" VALUES (?,?,?,?,?,?,?)\"\n",
    "                cursor.execute(sql,tuple(row))\n",
    "                print(\"Record inserted\")\n",
    "                conn.commit()\n",
    "            except Error as e:\n",
    "                print(f'Errorwhileinserting{ticker}todatabase',e)\n",
    "        except:\n",
    "            print(f'Errorwhileextractingdata{ticker}')\n",
    "    conn.close()\n",
    "price(tickers)"
   ]
  }
 ],
 "metadata": {
  "kernelspec": {
   "display_name": "Python 3",
   "language": "python",
   "name": "python3"
  },
  "language_info": {
   "codemirror_mode": {
    "name": "ipython",
    "version": 3
   },
   "file_extension": ".py",
   "mimetype": "text/x-python",
   "name": "python",
   "nbconvert_exporter": "python",
   "pygments_lexer": "ipython3",
   "version": "3.11.5"
  }
 },
 "nbformat": 4,
 "nbformat_minor": 2
}
